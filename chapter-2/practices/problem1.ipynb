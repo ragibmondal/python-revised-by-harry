{
 "cells": [
  {
   "cell_type": "code",
   "execution_count": null,
   "metadata": {},
   "outputs": [],
   "source": [
    "a=int(input(\"Enter Your 1st number:\"))\n",
    "b=int(input(\"Enter Your nd number:\"))\n",
    "c=a+b\n",
    "print(\"Addition of two Number is: \",c)"
   ]
  }
 ],
 "metadata": {
  "kernelspec": {
   "display_name": "mykiv",
   "language": "python",
   "name": "python3"
  },
  "language_info": {
   "codemirror_mode": {
    "name": "ipython",
    "version": 3
   },
   "file_extension": ".py",
   "mimetype": "text/x-python",
   "name": "python",
   "nbconvert_exporter": "python",
   "pygments_lexer": "ipython3",
   "version": "3.12.8"
  }
 },
 "nbformat": 4,
 "nbformat_minor": 2
}
