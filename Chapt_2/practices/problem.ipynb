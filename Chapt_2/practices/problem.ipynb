{
 "cells": [
  {
   "cell_type": "code",
   "execution_count": null,
   "metadata": {},
   "outputs": [],
   "source": [
    "a=int(input(\"Enter Your 1st number:\"))\n",
    "b=int(input(\"Enter Your nd number:\"))\n",
    "c=a+b\n",
    "print(\"Addition of two Number is: \",c)"
   ]
  },
  {
   "cell_type": "code",
   "execution_count": null,
   "metadata": {},
   "outputs": [],
   "source": [
    "#Write a python program to find remainder when a number is divided by z.\n",
    "a=int(input(\"Enter your Number:\"))\n",
    "z=int(input(\"Enter number to devide by: \"))\n",
    "c=a%z\n",
    "print(\"Reminder is: \",c)"
   ]
  },
  {
   "cell_type": "code",
   "execution_count": null,
   "metadata": {},
   "outputs": [],
   "source": [
    "#Check the type of variable assigned using input () function.\n",
    "a=input(\"Enter the value of a:\")\n",
    "print(type(a))"
   ]
  },
  {
   "cell_type": "code",
   "execution_count": null,
   "metadata": {},
   "outputs": [],
   "source": [
    "# Use comparison operator to find out whether ‘a’ given variable a is greater than \n",
    "# ‘b’ or not. Take a = 34 and b = 80?\n",
    "a=34\n",
    "b=80\n",
    "if a>b:\n",
    "    print(\"a is grater than b\")\n",
    "else:\n",
    "    print(\"a is not grater than b\")"
   ]
  },
  {
   "cell_type": "code",
   "execution_count": null,
   "metadata": {},
   "outputs": [],
   "source": [
    "# Write a python program to find an average of two numbers entered by the user.\n",
    "a=int(input(\"Enter 1st Number:\"))\n",
    "b=int(input(\"Enter 2nd Number:\"))\n",
    "c=(a+b)/2\n",
    "print(\"Avarage of these two number is :\",c)"
   ]
  },
  {
   "cell_type": "code",
   "execution_count": null,
   "metadata": {},
   "outputs": [],
   "source": [
    "# Write a python program to calculate the square of a number entered by the user.\n",
    "a=int (input(\"Enter Your Number:\"))\n",
    "b=a**2\n",
    "print(\"Square of the number is \", b)"
   ]
  }
 ],
 "metadata": {
  "kernelspec": {
   "display_name": "mykiv",
   "language": "python",
   "name": "python3"
  },
  "language_info": {
   "codemirror_mode": {
    "name": "ipython",
    "version": 3
   },
   "file_extension": ".py",
   "mimetype": "text/x-python",
   "name": "python",
   "nbconvert_exporter": "python",
   "pygments_lexer": "ipython3",
   "version": "3.12.8"
  }
 },
 "nbformat": 4,
 "nbformat_minor": 2
}