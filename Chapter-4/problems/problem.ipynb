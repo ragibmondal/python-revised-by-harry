{
 "cells": [
  {
   "cell_type": "code",
   "execution_count": null,
   "metadata": {
    "vscode": {
     "languageId": "plaintext"
    }
   },
   "outputs": [],
   "source": [
    "#Write a program to store seven fruits in a list entered by the user.\n",
    "fruits=[]\n",
    "f1=input(\"Enter Fruits Name: \")\n",
    "fruits.append(f1)\n",
    "f2=input(\"Enter Fruits Name: \")\n",
    "fruits.append(f2)\n",
    "f3=input(\"Enter Fruits Name: \")\n",
    "fruits.append(f3)\n",
    "f4=input(\"Enter Fruits Name: \")\n",
    "fruits.append(f4)\n",
    "f5=input(\"Enter Fruits Name: \")\n",
    "fruits.append(f5)\n",
    "f6=input(\"Enter Fruits Name: \")\n",
    "fruits.append(f6)\n",
    "f7=input(\"Enter Fruits Name: \")\n",
    "fruits.append(f7)\n",
    "print(fruits)"
   ]
  },
  {
   "cell_type": "code",
   "execution_count": null,
   "metadata": {
    "vscode": {
     "languageId": "plaintext"
    }
   },
   "outputs": [],
   "source": [
    "#Write a program to store seven marks in a list entered by the user.\n",
    "marks=[]\n",
    "f1=int(input(\"Enter marks Name: \"))\n",
    "marks.append(f1)\n",
    "f2=int(input(\"Enter marks Name: \"))\n",
    "marks.append(f2)\n",
    "f3=int(input(\"Enter marks Name: \"))\n",
    "marks.append(f3)\n",
    "f4=int(input(\"Enter marks Name: \"))\n",
    "marks.append(f4)\n",
    "f5=int(input(\"Enter marks Name: \"))\n",
    "marks.append(f5)\n",
    "f6=int(input(\"Enter marks Name: \"))\n",
    "marks.append(f6)\n",
    "marks.sort()\n",
    "print(marks)"
   ]
  },
  {
   "cell_type": "code",
   "execution_count": null,
   "metadata": {
    "vscode": {
     "languageId": "plaintext"
    }
   },
   "outputs": [],
   "source": [
    "#Check that a tuple type cannot be changed in python\n",
    "a=(34,56,89,\"Ragib\")\n",
    "a[2]=\"Kagib\" #not possible"
   ]
  },
  {
   "cell_type": "code",
   "execution_count": null,
   "metadata": {
    "vscode": {
     "languageId": "plaintext"
    }
   },
   "outputs": [],
   "source": [
    "#Write a program to sum a list with 4 numbers\n",
    "a=[1,2,3,4]\n",
    "print(sum(a))"
   ]
  },
  {
   "cell_type": "code",
   "execution_count": null,
   "metadata": {
    "vscode": {
     "languageId": "plaintext"
    }
   },
   "outputs": [],
   "source": [
    "#Write a program to count the number of zeros in the following tuple\n",
    "a=(7,0,8,0,0,9)\n",
    "print(a.count(0))"
   ]
  }
 ],
 "metadata": {
  "language_info": {
   "name": "python"
  }
 },
 "nbformat": 4,
 "nbformat_minor": 2
}
