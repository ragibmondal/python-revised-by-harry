{
 "cells": [
  {
   "cell_type": "code",
   "execution_count": null,
   "metadata": {
    "vscode": {
     "languageId": "plaintext"
    }
   },
   "outputs": [],
   "source": [
    "# # Write a python program to display a user entered name followed by Good \n",
    "# # Afternoon using input () function.\n",
    "ex=input(\"Enter Your Name:\")\n",
    "import pyttsx3\n",
    "kumar=pyttsx3.init()\n",
    "kumar.say(f\"Good Afternoon {ex} sir Are u serious to learn python with me\")\n",
    "kumar.runAndWait()\n"
   ]
  },
  {
   "cell_type": "code",
   "execution_count": null,
   "metadata": {
    "vscode": {
     "languageId": "plaintext"
    }
   },
   "outputs": [],
   "source": [
    "# Write a program to fill in a letter template given below with name and date.\n",
    "# letter = ''' \n",
    "# Dear <|Name|>,\n",
    "# You are selected!\n",
    "# <|Date|>\n",
    "letter = ''' \n",
    "Dear <|Name|>,\n",
    "You are selected!\n",
    "<|Date|>\n",
    "'''\n",
    "print(letter.replace(\"<|Name|>\",\"Ragib\").replace(\"<|Date|>\",\"28 January 2096\"))"
   ]
  },
  {
   "cell_type": "code",
   "execution_count": null,
   "metadata": {
    "vscode": {
     "languageId": "plaintext"
    }
   },
   "outputs": [],
   "source": [
    "#Write a program to detect double space in a string.\n",
    "name=\"Ragib is agood  boy and\"\n",
    "print(name.find(\"  \"))"
   ]
  },
  {
   "cell_type": "code",
   "execution_count": null,
   "metadata": {
    "vscode": {
     "languageId": "plaintext"
    }
   },
   "outputs": [],
   "source": [
    "#Replace the double space from problem 3 with single spaces.\n",
    "name=\"Ragib is a good  boy and\"\n",
    "print(name.replace(\"  \",\" \"))"
   ]
  },
  {
   "cell_type": "code",
   "execution_count": null,
   "metadata": {
    "vscode": {
     "languageId": "plaintext"
    }
   },
   "outputs": [],
   "source": [
    "# Write a program to format the following letter using escape sequence \n",
    "# characters.\n",
    "# letter = \"Dear Harry, this python course is nice. Thanks!\"\n",
    "letter = \"Dear Harry, \\n\\t this python course is nice. \\nThanks!\"\n",
    "print(letter)"
   ]
  }
 ],
 "metadata": {
  "language_info": {
   "name": "python"
  }
 },
 "nbformat": 4,
 "nbformat_minor": 2
}
